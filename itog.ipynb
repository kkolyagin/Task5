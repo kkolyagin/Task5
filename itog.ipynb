{
 "cells": [
  {
   "cell_type": "code",
   "execution_count": 1,
   "id": "d5784ab7",
   "metadata": {},
   "outputs": [],
   "source": [
    "import pyspark.sql.types as T\n",
    "import pyspark.sql.functions as F\n",
    "from pyspark.sql import SparkSession\n",
    "from pyspark.sql.functions import udf\n",
    "from pyspark.sql.window import Window\n",
    "\n",
    "import datetime"
   ]
  },
  {
   "cell_type": "code",
   "execution_count": 2,
   "id": "3ae2c975",
   "metadata": {},
   "outputs": [],
   "source": [
    "spark = SparkSession.builder.master(\"local\").\\\n",
    "                    appName(\"Word Count\").\\\n",
    "                    config(\"spark.driver.bindAddress\",\"localhost\").\\\n",
    "                    config(\"spark.ui.port\",\"4040\").\\\n",
    "                    getOrCreate()"
   ]
  },
  {
   "cell_type": "code",
   "execution_count": 7,
   "id": "3fd6c445",
   "metadata": {},
   "outputs": [],
   "source": [
    "#### creds info\n",
    "url = \"jdbc:postgresql://localhost:5432/Test\"\n",
    "db_name = \"public\"\n",
    "creds = {\n",
    "    \"user\": \"postgres\",\n",
    "    \"password\": \"postgres\",\n",
    "    \"driver\": \"org.postgresql.Driver\"\n",
    "}\n",
    "\n",
    "df=spark.read\\\n",
    "  .format(\"jdbc\")\\\n",
    "  .option(\"url\", url)\\\n",
    "  .option(\"dbtable\", \"(SELECT date(tpep_pickup_datetime) as date, passenger_count, Total_amount FROM public.yellow_tripdata)  AS t\")\\\n",
    "  .option(\"user\", \"postgres\")\\\n",
    "  .option(\"password\", \"postgres\")\\\n",
    "  .option('partitionColumn','date')\\\n",
    "  .option('numPartitions',50)\\\n",
    "  .option(\"lowerBound\", '2020-01-01')\\\n",
    "  .option(\"upperBound\", '2021-01-01')\\\n",
    "  .load()\n"
   ]
  },
  {
   "cell_type": "code",
   "execution_count": null,
   "id": "e554cb6d",
   "metadata": {},
   "outputs": [],
   "source": [
    "mode = \"overwrite\"\n",
    "properties = {\"user\": \"postgres\",\"password\": \"password\",\"driver\": \"org.postgresql.Driver\"}\n",
    "data.write.jdbc(url=url, table=\"test_result\", mode=mode, properties=properties)"
   ]
  },
  {
   "cell_type": "code",
   "execution_count": 8,
   "id": "27c41ccc",
   "metadata": {},
   "outputs": [],
   "source": [
    "#df.count()"
   ]
  },
  {
   "cell_type": "code",
   "execution_count": 9,
   "id": "0f8b69a5",
   "metadata": {},
   "outputs": [],
   "source": [
    "df_tmp=df.fillna(value=0, subset=[\"passenger_count\"])    "
   ]
  },
  {
   "cell_type": "code",
   "execution_count": 10,
   "id": "4e4b8c40",
   "metadata": {},
   "outputs": [],
   "source": [
    "df_tmp_all=df_tmp\\\n",
    "    .orderBy(\"date\")\\\n",
    "    .groupBy(\"date\")\\\n",
    "    .agg(F.count(\"passenger_count\").alias(\"passenger_count_by_day\"))"
   ]
  },
  {
   "cell_type": "code",
   "execution_count": 11,
   "id": "016d2a5c",
   "metadata": {},
   "outputs": [],
   "source": [
    "df_tmp_zero=df_tmp\\\n",
    "    .where(F.col(\"passenger_count\")==0)\\\n",
    "    .orderBy(\"date\")\\\n",
    "    .groupBy(F.col(\"date\").alias(\"date0\"))\\\n",
    "    .agg(F.count(\"passenger_count\").alias(\"passenger_count_zero\"),\\\n",
    "         F.max(\"total_amount\").alias(\"max_pay_zero\"),\\\n",
    "         F.min(\"total_amount\").alias(\"min_pay_zero\"))   "
   ]
  },
  {
   "cell_type": "code",
   "execution_count": 12,
   "id": "426d301a",
   "metadata": {},
   "outputs": [],
   "source": [
    "df_tmp_1p= df_tmp\\\n",
    "    .where(F.col(\"passenger_count\")==1)\\\n",
    "    .orderBy(\"date\")\\\n",
    "    .groupBy(F.col(\"date\").alias(\"date1\"))\\\n",
    "    .agg(F.count(\"passenger_count\").alias(\"passenger_count_1p\"),\\\n",
    "         F.max(\"total_amount\").alias(\"max_pay_1p\"),\\\n",
    "         F.min(\"total_amount\").alias(\"min_pay_1p\"))"
   ]
  },
  {
   "cell_type": "code",
   "execution_count": 13,
   "id": "16f58dc2",
   "metadata": {},
   "outputs": [],
   "source": [
    "df_tmp_2p= df_tmp\\\n",
    "    .where(F.col(\"passenger_count\")==2)\\\n",
    "    .orderBy(\"date\")\\\n",
    "    .groupBy(F.col(\"date\").alias(\"date2\"))\\\n",
    "    .agg(F.count(\"passenger_count\").alias(\"passenger_count_2p\"),\\\n",
    "         F.max(\"total_amount\").alias(\"max_pay_2p\"),\\\n",
    "         F.min(\"total_amount\").alias(\"min_pay_2p\"))"
   ]
  },
  {
   "cell_type": "code",
   "execution_count": 14,
   "id": "97249c8b",
   "metadata": {},
   "outputs": [],
   "source": [
    "df_tmp_3p= df_tmp\\\n",
    "    .where(F.col(\"passenger_count\")==3)\\\n",
    "    .orderBy(\"date\")\\\n",
    "    .groupBy(F.col(\"date\").alias(\"date3\"))\\\n",
    "    .agg(F.count(\"passenger_count\").alias(\"passenger_count_3p\"),\\\n",
    "         F.max(\"total_amount\").alias(\"max_pay_3p\"),\\\n",
    "         F.min(\"total_amount\").alias(\"min_pay_3p\"))"
   ]
  },
  {
   "cell_type": "code",
   "execution_count": 15,
   "id": "8afbc1a4",
   "metadata": {},
   "outputs": [],
   "source": [
    "df_tmp_4p_plus= df_tmp\\\n",
    "    .where(F.col(\"passenger_count\")>=4)\\\n",
    "    .orderBy(\"date\")\\\n",
    "    .groupBy(F.col(\"date\").alias(\"date4\"))\\\n",
    "    .agg(F.count(\"passenger_count\").alias(\"passenger_count_4p_plus\"),\\\n",
    "         F.max(\"total_amount\").alias(\"max_pay_4p_plus\"),\\\n",
    "         F.min(\"total_amount\").alias(\"min_pay_4p_plus\"))"
   ]
  },
  {
   "cell_type": "code",
   "execution_count": 16,
   "id": "cde03548",
   "metadata": {},
   "outputs": [],
   "source": [
    "df_tmp1 = df_tmp_all\\\n",
    "    .join(df_tmp_zero, df_tmp_all[\"date\"] == df_tmp_zero[\"date0\"],\"left\")\\\n",
    "    .join(df_tmp_1p, df_tmp_all[\"date\"] == df_tmp_1p[\"date1\"],\"left\")\\\n",
    "    .join(df_tmp_2p, df_tmp_all[\"date\"] == df_tmp_2p[\"date2\"],\"left\")\\\n",
    "    .join(df_tmp_3p, df_tmp_all[\"date\"] == df_tmp_3p[\"date3\"],\"left\")\\\n",
    "    .join(df_tmp_4p_plus, df_tmp_all[\"date\"] == df_tmp_4p_plus[\"date4\"],\"left\")\\\n",
    "    .withColumn(\"percentage_zero\",  F.round(100*F.col(\"passenger_count_zero\")/F.col(\"passenger_count_by_day\"),2))\\\n",
    "    .withColumn(\"percentage_1p\",  F.round(100*F.col(\"passenger_count_1p\")/F.col(\"passenger_count_by_day\"),2))\\\n",
    "    .withColumn(\"percentage_2p\",  F.round(100*F.col(\"passenger_count_2p\")/F.col(\"passenger_count_by_day\"),2))\\\n",
    "    .withColumn(\"percentage_3p\",  F.round(100*F.col(\"passenger_count_3p\")/F.col(\"passenger_count_by_day\"),2))\\\n",
    "    .withColumn(\"percentage_4p_plus\",  F.round(100*F.col(\"passenger_count_4p_plus\")/F.col(\"passenger_count_by_day\"),2))\\\n",
    "    .select(\"date\",\"percentage_zero\",\"percentage_1p\",\"percentage_2p\",\"percentage_3p\",\"percentage_4p_plus\"\\\n",
    "           ,\"max_pay_zero\",\"max_pay_1p\",\"max_pay_2p\",\"max_pay_3p\",\"max_pay_4p_plus\"\\\n",
    "           ,\"min_pay_zero\",\"min_pay_1p\",\"min_pay_2p\",\"min_pay_3p\",\"min_pay_4p_plus\")\\\n",
    "    .orderBy(\"date\")"
   ]
  },
  {
   "cell_type": "code",
   "execution_count": 17,
   "id": "a90f5a95",
   "metadata": {
    "scrolled": false
   },
   "outputs": [
    {
     "name": "stdout",
     "output_type": "stream",
     "text": [
      "+----------+---------------+-------------+-------------+-------------+------------------+------------+----------+----------+----------+---------------+------------+----------+----------+----------+---------------+\n",
      "|      date|percentage_zero|percentage_1p|percentage_2p|percentage_3p|percentage_4p_plus|max_pay_zero|max_pay_1p|max_pay_2p|max_pay_3p|max_pay_4p_plus|min_pay_zero|min_pay_1p|min_pay_2p|min_pay_3p|min_pay_4p_plus|\n",
      "+----------+---------------+-------------+-------------+-------------+------------------+------------+----------+----------+----------+---------------+------------+----------+----------+----------+---------------+\n",
      "|2003-01-01|           null|        100.0|         null|         null|              null|        null|       0.0|      null|      null|           null|        null|       0.0|      null|      null|           null|\n",
      "|2008-12-31|           null|         80.0|         null|         10.0|              10.0|        null|      73.7|      null|      7.25|           55.3|        null|       7.3|      null|      7.25|           55.3|\n",
      "|2009-01-01|           null|        78.95|         5.26|         5.26|             10.53|        null|      74.8|      31.3|      13.8|          61.42|        null|       3.3|      31.3|      13.8|            9.3|\n",
      "|2019-12-18|           null|         50.0|         null|         null|              50.0|        null|      2.81|      null|      null|            6.3|        null|      2.81|      null|      null|            6.3|\n",
      "|2019-12-31|           null|        58.14|        16.28|         4.65|             20.93|        null|     71.62|      41.8|     34.42|          54.36|        null|     -62.8|      -6.8|     10.56|            6.8|\n",
      "|2020-01-01|           2.01|        63.21|        19.38|         5.71|              9.69|      158.59|     465.3|    281.42|    433.04|         350.42|         0.3|    -207.3|    -73.92|    -103.3|          -79.8|\n",
      "|2020-01-02|           2.82|        68.05|        15.82|         4.68|              8.63|      174.36|     492.8|    328.04|    215.54|          352.3|         0.3|    -108.3|    -135.3|     -68.3|         -61.42|\n",
      "|2020-01-03|           2.82|        68.14|        16.14|         4.53|              8.37|      187.42|    1242.3|     370.3|    409.59|          348.3|       -29.9|   -1242.3|     -70.3|     -33.3|         -61.42|\n",
      "|2020-01-04|           2.25|        65.29|        18.28|         5.11|              9.08|      173.91|     965.8|     481.3|     313.3|          577.8|       -18.3|    -180.3|    -61.42|    -62.42|          -55.3|\n",
      "|2020-01-05|            2.5|        67.14|        17.21|         4.74|              8.41|      435.42|    596.42|     375.3|    333.34|         264.36|      -50.02|     -90.3|   -102.42|     -55.3|          -65.3|\n",
      "|2020-01-06|           3.99|        72.17|        13.22|         3.61|               7.0|      275.42|   1040.39|    276.36|     200.3|          185.9|      -61.94|    -500.3|    -65.92|    -45.42|         -168.3|\n",
      "|2020-01-07|           3.97|        72.33|        13.35|         3.39|              6.96|       114.8|    410.67|     375.3|     343.3|          242.8|         0.0|   -142.92|     -70.8|    -61.42|          -57.3|\n",
      "|2020-01-08|           3.87|        72.49|        13.25|         3.44|              6.95|      319.03|    914.55|    282.36|     350.8|         253.67|       -54.2|     -74.8|    -61.42|    -61.42|         -61.42|\n",
      "|2020-01-09|           3.62|        72.79|        13.29|         3.41|              6.88|       186.2|     620.3|    231.65|     230.3|          404.3|         0.0|    -241.3|    -112.8|    -65.92|          -12.3|\n",
      "|2020-01-10|           3.58|        70.73|        14.58|         3.85|              7.26|       253.3|     362.3|    245.05|    187.55|         284.76|       -10.3|    -200.8|    -65.92|     -59.8|          -75.3|\n",
      "|2020-01-11|           2.53|        66.84|        17.83|          4.6|               8.2|      143.45|    416.15|    228.02|     250.3|         424.29|       -99.3|    -300.3|     -73.8|     -71.3|          -77.8|\n",
      "|2020-01-12|           3.07|         67.9|        16.76|         4.49|              7.78|       161.8|     450.3|     431.6|    331.42|         658.35|         0.0|    -252.8|    -61.42|     -24.8|          -55.3|\n",
      "|2020-01-13|           2.68|        74.11|         12.9|         3.48|              6.83|      276.29|    534.12|    475.17|     311.3|         312.46|         0.3|     -78.3|     -65.3|     -59.8|          -57.8|\n",
      "|2020-01-14|            2.8|        73.77|        13.03|         3.39|               7.0|       300.3|    340.01|     420.3|     300.3|         412.09|         0.0|    -94.07|    -65.92|    -72.92|         -120.8|\n",
      "|2020-01-15|            2.8|        73.77|        13.21|          3.3|              6.91|       322.8|    480.36|    408.95|     190.3|         179.16|      -63.68|    -400.3|    -61.42|    -61.42|         -150.8|\n",
      "+----------+---------------+-------------+-------------+-------------+------------------+------------+----------+----------+----------+---------------+------------+----------+----------+----------+---------------+\n",
      "only showing top 20 rows\n",
      "\n"
     ]
    }
   ],
   "source": [
    "df_tmp1.show()"
   ]
  },
  {
   "cell_type": "code",
   "execution_count": 43,
   "id": "1a6c2118",
   "metadata": {},
   "outputs": [],
   "source": [
    "df_tmp1.write\\\n",
    "  .format(\"jdbc\")\\\n",
    "  .mode(\"overwrite\")\\\n",
    "  .option(\"url\", url).option(\"user\", \"postgres\").option(\"password\", \"postgres\")\\\n",
    "  .option(\"dbtable\", \"public.parquet\")\\\n",
    "  .save()\n"
   ]
  }
 ],
 "metadata": {
  "kernelspec": {
   "display_name": "Python 3 (ipykernel)",
   "language": "python",
   "name": "python3"
  },
  "language_info": {
   "codemirror_mode": {
    "name": "ipython",
    "version": 3
   },
   "file_extension": ".py",
   "mimetype": "text/x-python",
   "name": "python",
   "nbconvert_exporter": "python",
   "pygments_lexer": "ipython3",
   "version": "3.10.7"
  }
 },
 "nbformat": 4,
 "nbformat_minor": 5
}
